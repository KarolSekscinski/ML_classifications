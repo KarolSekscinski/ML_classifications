{
 "cells": [
  {
   "cell_type": "code",
   "execution_count": 1,
   "id": "initial_id",
   "metadata": {
    "collapsed": true,
    "ExecuteTime": {
     "end_time": "2025-04-27T19:51:26.779811Z",
     "start_time": "2025-04-27T19:51:25.531401Z"
    }
   },
   "outputs": [
    {
     "data": {
      "text/plain": "{'X_ml': [Value(dtype='float32', id=None)],\n 'X_ml_unscale': [Value(dtype='float32', id=None)],\n 'y': Value(dtype='int64', id=None),\n 'num_classes': Value(dtype='int64', id=None),\n 'num_features': Value(dtype='int64', id=None),\n 'num_idx': [Value(dtype='int64', id=None)],\n 'cat_idx': [Value(dtype='int64', id=None)],\n 'cat_dim': [Value(dtype='int64', id=None)],\n 'cat_str': [[Value(dtype='string', id=None)]],\n 'col_name': [Value(dtype='string', id=None)],\n 'X_instruction_for_profile': Value(dtype='string', id=None),\n 'X_profile': Value(dtype='string', id=None)}"
     },
     "execution_count": 1,
     "metadata": {},
     "output_type": "execute_result"
    }
   ],
   "source": [
    "import datasets\n",
    "\n",
    "datasets.Features(\n",
    "    {\n",
    "        \"X_ml\": [datasets.Value(dtype=\"float\")],  # (The tabular data array of the current instance)\n",
    "        \"X_ml_unscale\": [datasets.Value(dtype=\"float\")],  # (Scaled tabular data array of the current instance)\n",
    "        \"y\": datasets.Value(dtype=\"int64\"),  # (The label / ground-truth)\n",
    "        \"num_classes\": datasets.Value(\"int64\"),  # (The total number of classes)\n",
    "        \"num_features\": datasets.Value(\"int64\"),  # (The total number of features)\n",
    "        \"num_idx\": [datasets.Value(\"int64\")],  # (The indices of the numerical datatype columns)\n",
    "        \"cat_idx\": [datasets.Value(\"int64\")],  # (The indices of the categorical datatype columns)\n",
    "        \"cat_dim\": [datasets.Value(\"int64\")],  # (The dimension of each categorical column)\n",
    "        \"cat_str\": [[datasets.Value(\"string\")]],  # (The category names of categorical columns)\n",
    "        \"col_name\": [datasets.Value(\"string\")],  # (The name of each column)\n",
    "        \"X_instruction_for_profile\": datasets.Value(\"string\"),  # instructions (from tabular data) for profiles\n",
    "        \"X_profile\": datasets.Value(\"string\"),  # customer profiles built from instructions via LLMs\n",
    "    }\n",
    ")\n"
   ]
  },
  {
   "cell_type": "code",
   "outputs": [
    {
     "data": {
      "text/plain": "Downloading data:   0%|          | 0/16 [00:00<?, ?files/s]",
      "application/vnd.jupyter.widget-view+json": {
       "version_major": 2,
       "version_minor": 0,
       "model_id": "12b7bceecc334288aa016047faa991ce"
      }
     },
     "metadata": {},
     "output_type": "display_data"
    },
    {
     "data": {
      "text/plain": "y_val.npy:   0%|          | 0.00/2.57k [00:00<?, ?B/s]",
      "application/vnd.jupyter.widget-view+json": {
       "version_major": 2,
       "version_minor": 0,
       "model_id": "f582dd9e03374e3faf8ff534b30d0e88"
      }
     },
     "metadata": {},
     "output_type": "display_data"
    },
    {
     "data": {
      "text/plain": "X_test.npy:   0%|          | 0.00/69.5k [00:00<?, ?B/s]",
      "application/vnd.jupyter.widget-view+json": {
       "version_major": 2,
       "version_minor": 0,
       "model_id": "b5b3d077bc67463499c3033d64f20e6d"
      }
     },
     "metadata": {},
     "output_type": "display_data"
    },
    {
     "data": {
      "text/plain": "X_val_unscale.npy:   0%|          | 0.00/6.97k [00:00<?, ?B/s]",
      "application/vnd.jupyter.widget-view+json": {
       "version_major": 2,
       "version_minor": 0,
       "model_id": "097b3ba870a44f729973da553972d7be"
      }
     },
     "metadata": {},
     "output_type": "display_data"
    },
    {
     "data": {
      "text/plain": "profile_X_test.jsonl:   0%|          | 0.00/318k [00:00<?, ?B/s]",
      "application/vnd.jupyter.widget-view+json": {
       "version_major": 2,
       "version_minor": 0,
       "model_id": "a19d296694c246be802b0a58f0ebc54c"
      }
     },
     "metadata": {},
     "output_type": "display_data"
    },
    {
     "data": {
      "text/plain": "y_train.npy:   0%|          | 0.00/22.0k [00:00<?, ?B/s]",
      "application/vnd.jupyter.widget-view+json": {
       "version_major": 2,
       "version_minor": 0,
       "model_id": "bb390ad3d7154143bef445e3b099c1a0"
      }
     },
     "metadata": {},
     "output_type": "display_data"
    },
    {
     "data": {
      "text/plain": "instruction_for_profile_X_train.jsonl:   0%|          | 0.00/709k [00:00<?, ?B/s]",
      "application/vnd.jupyter.widget-view+json": {
       "version_major": 2,
       "version_minor": 0,
       "model_id": "68e7e47adbd0432199b59047b5ff7ed8"
      }
     },
     "metadata": {},
     "output_type": "display_data"
    },
    {
     "data": {
      "text/plain": "instruction_for_profile_X_test.jsonl:   0%|          | 0.00/338k [00:00<?, ?B/s]",
      "application/vnd.jupyter.widget-view+json": {
       "version_major": 2,
       "version_minor": 0,
       "model_id": "38a86353a4f9416f8e74876de5d14e96"
      }
     },
     "metadata": {},
     "output_type": "display_data"
    },
    {
     "data": {
      "text/plain": "X_val.npy:   0%|          | 0.00/16.5k [00:00<?, ?B/s]",
      "application/vnd.jupyter.widget-view+json": {
       "version_major": 2,
       "version_minor": 0,
       "model_id": "352869ee45ad4bc2a3f76e27f56941d0"
      }
     },
     "metadata": {},
     "output_type": "display_data"
    },
    {
     "data": {
      "text/plain": "X_train_unscale.npy:   0%|          | 0.00/60.4k [00:00<?, ?B/s]",
      "application/vnd.jupyter.widget-view+json": {
       "version_major": 2,
       "version_minor": 0,
       "model_id": "3ca85d0c4faa41788f75b2fd7dff9a51"
      }
     },
     "metadata": {},
     "output_type": "display_data"
    },
    {
     "data": {
      "text/plain": "X_test_unscale.npy:   0%|          | 0.00/28.9k [00:00<?, ?B/s]",
      "application/vnd.jupyter.widget-view+json": {
       "version_major": 2,
       "version_minor": 0,
       "model_id": "93f7b0c770614d8288f0e3fe45472c96"
      }
     },
     "metadata": {},
     "output_type": "display_data"
    },
    {
     "data": {
      "text/plain": "stat_dict.json:   0%|          | 0.00/364 [00:00<?, ?B/s]",
      "application/vnd.jupyter.widget-view+json": {
       "version_major": 2,
       "version_minor": 0,
       "model_id": "e4174cba795f4ff48400498766b6e516"
      }
     },
     "metadata": {},
     "output_type": "display_data"
    },
    {
     "data": {
      "text/plain": "profile_X_train.jsonl:   0%|          | 0.00/667k [00:00<?, ?B/s]",
      "application/vnd.jupyter.widget-view+json": {
       "version_major": 2,
       "version_minor": 0,
       "model_id": "2095d61a63b5404cb70380f882c8b3ec"
      }
     },
     "metadata": {},
     "output_type": "display_data"
    },
    {
     "data": {
      "text/plain": "(…)struction_for_profile_X_validation.jsonl:   0%|          | 0.00/79.0k [00:00<?, ?B/s]",
      "application/vnd.jupyter.widget-view+json": {
       "version_major": 2,
       "version_minor": 0,
       "model_id": "f74e2a1a3bc04f968f8f1eb1a0e19883"
      }
     },
     "metadata": {},
     "output_type": "display_data"
    },
    {
     "data": {
      "text/plain": "y_test.npy:   0%|          | 0.00/10.6k [00:00<?, ?B/s]",
      "application/vnd.jupyter.widget-view+json": {
       "version_major": 2,
       "version_minor": 0,
       "model_id": "e5ab718583b546a282b6459117d2f935"
      }
     },
     "metadata": {},
     "output_type": "display_data"
    },
    {
     "data": {
      "text/plain": "profile_X_validation.jsonl:   0%|          | 0.00/74.5k [00:00<?, ?B/s]",
      "application/vnd.jupyter.widget-view+json": {
       "version_major": 2,
       "version_minor": 0,
       "model_id": "346750cf0c62413ca81ce70eab78de78"
      }
     },
     "metadata": {},
     "output_type": "display_data"
    },
    {
     "data": {
      "text/plain": "X_train.npy:   0%|          | 0.00/145k [00:00<?, ?B/s]",
      "application/vnd.jupyter.widget-view+json": {
       "version_major": 2,
       "version_minor": 0,
       "model_id": "58bb720d9c754504bfc0fe49f077bb3d"
      }
     },
     "metadata": {},
     "output_type": "display_data"
    },
    {
     "name": "stdout",
     "output_type": "stream",
     "text": [
      ">>> >>> downloaded_files:\n",
      "{'X_train_ml': C:\\Users\\seksc\\.cache\\huggingface\\hub\\datasets--yuweiyin--FinBench\\snapshots\\9d3fff2105757be7f6f21e76925da804a66e3857\\data\\cd1\\X_train.npy (origin=https://huggingface.co/datasets/yuweiyin/FinBench/resolve/9d3fff2105757be7f6f21e76925da804a66e3857/./data/cd1/X_train.npy), 'X_val_ml': C:\\Users\\seksc\\.cache\\huggingface\\hub\\datasets--yuweiyin--FinBench\\snapshots\\9d3fff2105757be7f6f21e76925da804a66e3857\\data\\cd1\\X_val.npy (origin=https://huggingface.co/datasets/yuweiyin/FinBench/resolve/9d3fff2105757be7f6f21e76925da804a66e3857/./data/cd1/X_val.npy), 'X_test_ml': C:\\Users\\seksc\\.cache\\huggingface\\hub\\datasets--yuweiyin--FinBench\\snapshots\\9d3fff2105757be7f6f21e76925da804a66e3857\\data\\cd1\\X_test.npy (origin=https://huggingface.co/datasets/yuweiyin/FinBench/resolve/9d3fff2105757be7f6f21e76925da804a66e3857/./data/cd1/X_test.npy), 'X_train_ml_unscale': C:\\Users\\seksc\\.cache\\huggingface\\hub\\datasets--yuweiyin--FinBench\\snapshots\\9d3fff2105757be7f6f21e76925da804a66e3857\\data\\cd1\\X_train_unscale.npy (origin=https://huggingface.co/datasets/yuweiyin/FinBench/resolve/9d3fff2105757be7f6f21e76925da804a66e3857/./data/cd1/X_train_unscale.npy), 'X_val_ml_unscale': C:\\Users\\seksc\\.cache\\huggingface\\hub\\datasets--yuweiyin--FinBench\\snapshots\\9d3fff2105757be7f6f21e76925da804a66e3857\\data\\cd1\\X_val_unscale.npy (origin=https://huggingface.co/datasets/yuweiyin/FinBench/resolve/9d3fff2105757be7f6f21e76925da804a66e3857/./data/cd1/X_val_unscale.npy), 'X_test_ml_unscale': C:\\Users\\seksc\\.cache\\huggingface\\hub\\datasets--yuweiyin--FinBench\\snapshots\\9d3fff2105757be7f6f21e76925da804a66e3857\\data\\cd1\\X_test_unscale.npy (origin=https://huggingface.co/datasets/yuweiyin/FinBench/resolve/9d3fff2105757be7f6f21e76925da804a66e3857/./data/cd1/X_test_unscale.npy), 'y_train': C:\\Users\\seksc\\.cache\\huggingface\\hub\\datasets--yuweiyin--FinBench\\snapshots\\9d3fff2105757be7f6f21e76925da804a66e3857\\data\\cd1\\y_train.npy (origin=https://huggingface.co/datasets/yuweiyin/FinBench/resolve/9d3fff2105757be7f6f21e76925da804a66e3857/./data/cd1/y_train.npy), 'y_val': C:\\Users\\seksc\\.cache\\huggingface\\hub\\datasets--yuweiyin--FinBench\\snapshots\\9d3fff2105757be7f6f21e76925da804a66e3857\\data\\cd1\\y_val.npy (origin=https://huggingface.co/datasets/yuweiyin/FinBench/resolve/9d3fff2105757be7f6f21e76925da804a66e3857/./data/cd1/y_val.npy), 'y_test': C:\\Users\\seksc\\.cache\\huggingface\\hub\\datasets--yuweiyin--FinBench\\snapshots\\9d3fff2105757be7f6f21e76925da804a66e3857\\data\\cd1\\y_test.npy (origin=https://huggingface.co/datasets/yuweiyin/FinBench/resolve/9d3fff2105757be7f6f21e76925da804a66e3857/./data/cd1/y_test.npy), 'stat_ml': C:\\Users\\seksc\\.cache\\huggingface\\hub\\datasets--yuweiyin--FinBench\\snapshots\\9d3fff2105757be7f6f21e76925da804a66e3857\\data\\cd1\\stat_dict.json (origin=https://huggingface.co/datasets/yuweiyin/FinBench/resolve/9d3fff2105757be7f6f21e76925da804a66e3857/./data/cd1/stat_dict.json), 'instruction_for_profile_X_train': C:\\Users\\seksc\\.cache\\huggingface\\hub\\datasets--yuweiyin--FinBench\\snapshots\\9d3fff2105757be7f6f21e76925da804a66e3857\\data\\cd1\\instruction_for_profile_X_train.jsonl (origin=https://huggingface.co/datasets/yuweiyin/FinBench/resolve/9d3fff2105757be7f6f21e76925da804a66e3857/./data/cd1/instruction_for_profile_X_train.jsonl), 'instruction_for_profile_X_validation': C:\\Users\\seksc\\.cache\\huggingface\\hub\\datasets--yuweiyin--FinBench\\snapshots\\9d3fff2105757be7f6f21e76925da804a66e3857\\data\\cd1\\instruction_for_profile_X_validation.jsonl (origin=https://huggingface.co/datasets/yuweiyin/FinBench/resolve/9d3fff2105757be7f6f21e76925da804a66e3857/./data/cd1/instruction_for_profile_X_validation.jsonl), 'instruction_for_profile_X_test': C:\\Users\\seksc\\.cache\\huggingface\\hub\\datasets--yuweiyin--FinBench\\snapshots\\9d3fff2105757be7f6f21e76925da804a66e3857\\data\\cd1\\instruction_for_profile_X_test.jsonl (origin=https://huggingface.co/datasets/yuweiyin/FinBench/resolve/9d3fff2105757be7f6f21e76925da804a66e3857/./data/cd1/instruction_for_profile_X_test.jsonl), 'profile_X_train': C:\\Users\\seksc\\.cache\\huggingface\\hub\\datasets--yuweiyin--FinBench\\snapshots\\9d3fff2105757be7f6f21e76925da804a66e3857\\data\\cd1\\profile_X_train.jsonl (origin=https://huggingface.co/datasets/yuweiyin/FinBench/resolve/9d3fff2105757be7f6f21e76925da804a66e3857/./data/cd1/profile_X_train.jsonl), 'profile_X_validation': C:\\Users\\seksc\\.cache\\huggingface\\hub\\datasets--yuweiyin--FinBench\\snapshots\\9d3fff2105757be7f6f21e76925da804a66e3857\\data\\cd1\\profile_X_validation.jsonl (origin=https://huggingface.co/datasets/yuweiyin/FinBench/resolve/9d3fff2105757be7f6f21e76925da804a66e3857/./data/cd1/profile_X_validation.jsonl), 'profile_X_test': C:\\Users\\seksc\\.cache\\huggingface\\hub\\datasets--yuweiyin--FinBench\\snapshots\\9d3fff2105757be7f6f21e76925da804a66e3857\\data\\cd1\\profile_X_test.jsonl (origin=https://huggingface.co/datasets/yuweiyin/FinBench/resolve/9d3fff2105757be7f6f21e76925da804a66e3857/./data/cd1/profile_X_test.jsonl)}\n"
     ]
    },
    {
     "data": {
      "text/plain": "Generating train split: 0 examples [00:00, ? examples/s]",
      "application/vnd.jupyter.widget-view+json": {
       "version_major": 2,
       "version_minor": 0,
       "model_id": "c4f9429f6d3f4a1a8c84f94baae020bf"
      }
     },
     "metadata": {},
     "output_type": "display_data"
    },
    {
     "data": {
      "text/plain": "Generating validation split: 0 examples [00:00, ? examples/s]",
      "application/vnd.jupyter.widget-view+json": {
       "version_major": 2,
       "version_minor": 0,
       "model_id": "11150c7dffa54c30aa8bc4f97fd4b96f"
      }
     },
     "metadata": {},
     "output_type": "display_data"
    },
    {
     "data": {
      "text/plain": "Generating test split: 0 examples [00:00, ? examples/s]",
      "application/vnd.jupyter.widget-view+json": {
       "version_major": 2,
       "version_minor": 0,
       "model_id": "ebf52fbb4b8b4c2db9ff75a9948edb17"
      }
     },
     "metadata": {},
     "output_type": "display_data"
    }
   ],
   "source": [
    "from datasets import load_dataset\n",
    "\n",
    "# ds_name_list = [\"cd1\", \"cd2\", \"ld1\", \"ld2\", \"ld3\", \"cf1\", \"cf2\", \"cc1\", \"cc2\", \"cc3\"]\n",
    "ds_name = \"cd1\"  # change the dataset name here\n",
    "dataset = load_dataset(\"yuweiyin/FinBench\", ds_name, trust_remote_code=True)"
   ],
   "metadata": {
    "collapsed": false,
    "ExecuteTime": {
     "end_time": "2025-04-27T19:52:02.798361Z",
     "start_time": "2025-04-27T19:51:59.483241Z"
    }
   },
   "id": "5a0b5b70151ff16",
   "execution_count": 3
  },
  {
   "cell_type": "code",
   "outputs": [],
   "source": [
    "train_set = dataset[\"train\"] if \"train\" in dataset else []\n",
    "\n",
    "for train_instance in train_set:\n",
    "    X_ml = train_instance[\"X_ml\"]  # List[float] (The tabular data array of the current instance)\n",
    "    X_ml_unscale = train_instance[\"X_ml_unscale\"]  # List[float] (Scaled tabular data array of the current instance)\n",
    "    y = train_instance[\"y\"]  # int (The label / ground-truth)\n",
    "    num_classes = train_instance[\"num_classes\"]  # int (The total number of classes)\n",
    "    num_features = train_instance[\"num_features\"]  # int (The total number of features)\n",
    "    num_idx = train_instance[\"num_idx\"]  # List[int] (The indices of the numerical datatype columns)\n",
    "    cat_idx = train_instance[\"cat_idx\"]  # List[int] (The indices of the categorical datatype columns)\n",
    "    cat_dim = train_instance[\"cat_dim\"]  # List[int] (The dimension of each categorical column)\n",
    "    cat_str = train_instance[\"cat_str\"]  # List[List[str]] (The category names of categorical columns)\n",
    "    col_name = train_instance[\"col_name\"]  # List[str] (The name of each column)\n",
    "    X_instruction_for_profile = train_instance[\"X_instruction_for_profile\"]  # instructions for building profiles\n",
    "    X_profile = train_instance[\"X_profile\"]  # customer profiles built from instructions via LLMs"
   ],
   "metadata": {
    "collapsed": false,
    "ExecuteTime": {
     "end_time": "2025-04-27T19:53:48.534685Z",
     "start_time": "2025-04-27T19:53:47.846278Z"
    }
   },
   "id": "b0b593b9b07bb713",
   "execution_count": 4
  }
 ],
 "metadata": {
  "kernelspec": {
   "display_name": "Python 3",
   "language": "python",
   "name": "python3"
  },
  "language_info": {
   "codemirror_mode": {
    "name": "ipython",
    "version": 2
   },
   "file_extension": ".py",
   "mimetype": "text/x-python",
   "name": "python",
   "nbconvert_exporter": "python",
   "pygments_lexer": "ipython2",
   "version": "2.7.6"
  }
 },
 "nbformat": 4,
 "nbformat_minor": 5
}
